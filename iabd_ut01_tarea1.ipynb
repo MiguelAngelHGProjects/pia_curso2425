{
  "nbformat": 4,
  "nbformat_minor": 0,
  "metadata": {
    "colab": {
      "provenance": []
    },
    "kernelspec": {
      "name": "python3",
      "display_name": "Python 3"
    },
    "language_info": {
      "name": "python"
    }
  },
  "cells": [
    {
      "cell_type": "markdown",
      "source": [
        "# MIGUEL ANGEL HERNÁNDEZ GARCÍA"
      ],
      "metadata": {
        "id": "c4hDoYYmU3og"
      }
    },
    {
      "cell_type": "markdown",
      "source": [
        "## Ejercicio 1:\n",
        "Crea la lista de nombre tenistas con los siguientes\n",
        "elementos: Novak Djokovic, Rafael Nadal, Roger Federer, Pete Sampras, Roy Emerson.\n",
        "Imprime por pantalla la lista."
      ],
      "metadata": {
        "id": "JXFzZG3YVJtB"
      }
    },
    {
      "cell_type": "code",
      "source": [
        "tenistas = [\"Novak Djokovic\", \"Rafael Nadal\", \"Roger Federer\", \"Pete Sampras\", \"Roy Emerson\"]\n",
        "print(tenistas)"
      ],
      "metadata": {
        "colab": {
          "base_uri": "https://localhost:8080/"
        },
        "id": "JitRUEHbVI1l",
        "outputId": "f0a04083-74c6-49d9-d477-10352c17ad79"
      },
      "execution_count": 22,
      "outputs": [
        {
          "output_type": "stream",
          "name": "stdout",
          "text": [
            "['Novak Djokovic', 'Rafael Nadal', 'Roger Federer', 'Pete Sampras', 'Roy Emerson']\n"
          ]
        }
      ]
    },
    {
      "cell_type": "markdown",
      "source": [
        "## Ejercicio 2:\n",
        " crea la lista de nombre grand_slams con los\n",
        "siguientes elementos: 24, 22, 20, 14, 12. Imprime por pantalla la lista."
      ],
      "metadata": {
        "id": "1aquGdWrVNCR"
      }
    },
    {
      "cell_type": "code",
      "execution_count": 23,
      "metadata": {
        "colab": {
          "base_uri": "https://localhost:8080/"
        },
        "id": "8Td5dYf8U1bv",
        "outputId": "bce1885f-6288-4fd8-b216-2795925b0dbc"
      },
      "outputs": [
        {
          "output_type": "stream",
          "name": "stdout",
          "text": [
            "[24, 22, 20, 14, 12]\n"
          ]
        }
      ],
      "source": [
        "grand_slams = [24, 22, 20, 14, 12]\n",
        "print(grand_slams)"
      ]
    },
    {
      "cell_type": "markdown",
      "source": [
        "## Ejercicio 3:\n",
        "Crea un diccionario de nombre dic donde la clave de\n",
        "cada elemento sea el nombre de un tenista y su valor el número de Grand Slams ganados.\n",
        "Imprime por pantalla el diccionario."
      ],
      "metadata": {
        "id": "sQ0oaLW8VYnQ"
      }
    },
    {
      "cell_type": "code",
      "source": [
        "dic = dict(zip(tenistas, grand_slams))\n",
        "print(dic)"
      ],
      "metadata": {
        "colab": {
          "base_uri": "https://localhost:8080/"
        },
        "id": "jTepUft6Vgp_",
        "outputId": "a9f390e5-afcb-441f-d523-43c56cdb3be3"
      },
      "execution_count": 24,
      "outputs": [
        {
          "output_type": "stream",
          "name": "stdout",
          "text": [
            "{'Novak Djokovic': 24, 'Rafael Nadal': 22, 'Roger Federer': 20, 'Pete Sampras': 14, 'Roy Emerson': 12}\n"
          ]
        }
      ]
    },
    {
      "cell_type": "markdown",
      "source": [
        "## Ejercicio 4:\n",
        " Escribe las sentencias Python necesarias para\n",
        "mostrar los datos del diccionario dic en la forma Nombre del jugador: X Grand Slams\n",
        "ganados. El resultado debería ser como sigue:\n",
        "Novak Djokovic: 24 Grand Slams ganados.\n",
        "Rafael Nadal: 22 Grand Slams ganados."
      ],
      "metadata": {
        "id": "MlYOiJBFXZPf"
      }
    },
    {
      "cell_type": "code",
      "source": [
        "dic = dict(zip(tenistas, grand_slams))\n",
        "for key, value in dic.items():\n",
        "    print(f\"{key}: {value} Grand Slams ganados.\")"
      ],
      "metadata": {
        "colab": {
          "base_uri": "https://localhost:8080/"
        },
        "id": "A3RmD3_FXigv",
        "outputId": "ac57ab9d-77aa-4fb0-b823-cbc4f6185df1"
      },
      "execution_count": 25,
      "outputs": [
        {
          "output_type": "stream",
          "name": "stdout",
          "text": [
            "Novak Djokovic: 24 Grand Slams ganados.\n",
            "Rafael Nadal: 22 Grand Slams ganados.\n",
            "Roger Federer: 20 Grand Slams ganados.\n",
            "Pete Sampras: 14 Grand Slams ganados.\n",
            "Roy Emerson: 12 Grand Slams ganados.\n"
          ]
        }
      ]
    }
  ]
}